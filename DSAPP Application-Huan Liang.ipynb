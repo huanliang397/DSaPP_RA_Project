{
 "cells": [
  {
   "cell_type": "code",
   "execution_count": 162,
   "metadata": {},
   "outputs": [],
   "source": [
    "import numpy as np\n",
    "import pandas as pd"
   ]
  },
  {
   "cell_type": "markdown",
   "metadata": {},
   "source": [
    "### Exploratory Analysis\n",
    "\n",
    "First, for the exploratory analysis, I want to internalize the data, understand the column names and their types. I need to know what I am working with. Then, I will look at the column variables and brainstorm some insights that the data is able to show me. Let's start by reading the csv file and taking a look at the variable labels and variable types\n",
    "\n"
   ]
  },
  {
   "cell_type": "code",
   "execution_count": 201,
   "metadata": {},
   "outputs": [
    {
     "data": {
      "text/plain": [
       "['projectid',\n",
       " 'teacher_acctid',\n",
       " 'schoolid',\n",
       " 'school_ncesid',\n",
       " 'school_latitude',\n",
       " 'school_longitude',\n",
       " 'school_city',\n",
       " 'school_state',\n",
       " 'school_zip',\n",
       " 'school_metro',\n",
       " 'school_district',\n",
       " 'school_county',\n",
       " 'school_charter',\n",
       " 'school_magnet',\n",
       " 'school_year_round',\n",
       " 'school_nlns',\n",
       " 'school_kipp',\n",
       " 'school_charter_ready_promise',\n",
       " 'teacher_prefix',\n",
       " 'teacher_teach_for_america',\n",
       " 'teacher_ny_teaching_fellow',\n",
       " 'primary_focus_subject',\n",
       " 'primary_focus_area',\n",
       " 'secondary_focus_subject',\n",
       " 'secondary_focus_area',\n",
       " 'resource_type',\n",
       " 'poverty_level',\n",
       " 'grade_level',\n",
       " 'fulfillment_labor_materials',\n",
       " 'total_price_excluding_optional_support',\n",
       " 'total_price_including_optional_support',\n",
       " 'students_reached',\n",
       " 'eligible_double_your_impact_match',\n",
       " 'eligible_almost_home_match',\n",
       " 'date_posted']"
      ]
     },
     "execution_count": 201,
     "metadata": {},
     "output_type": "execute_result"
    }
   ],
   "source": [
    "data = pd.read_csv('/Users/HuanLiang/Downloads/projects.csv')\n",
    "list(data)"
   ]
  },
  {
   "cell_type": "code",
   "execution_count": 202,
   "metadata": {},
   "outputs": [
    {
     "data": {
      "text/plain": [
       "projectid                                  object\n",
       "teacher_acctid                             object\n",
       "schoolid                                   object\n",
       "school_ncesid                             float64\n",
       "school_latitude                           float64\n",
       "school_longitude                          float64\n",
       "school_city                                object\n",
       "school_state                               object\n",
       "school_zip                                float64\n",
       "school_metro                               object\n",
       "school_district                            object\n",
       "school_county                              object\n",
       "school_charter                             object\n",
       "school_magnet                              object\n",
       "school_year_round                          object\n",
       "school_nlns                                object\n",
       "school_kipp                                object\n",
       "school_charter_ready_promise               object\n",
       "teacher_prefix                             object\n",
       "teacher_teach_for_america                  object\n",
       "teacher_ny_teaching_fellow                 object\n",
       "primary_focus_subject                      object\n",
       "primary_focus_area                         object\n",
       "secondary_focus_subject                    object\n",
       "secondary_focus_area                       object\n",
       "resource_type                              object\n",
       "poverty_level                              object\n",
       "grade_level                                object\n",
       "fulfillment_labor_materials               float64\n",
       "total_price_excluding_optional_support    float64\n",
       "total_price_including_optional_support    float64\n",
       "students_reached                          float64\n",
       "eligible_double_your_impact_match          object\n",
       "eligible_almost_home_match                 object\n",
       "date_posted                                object\n",
       "dtype: object"
      ]
     },
     "execution_count": 202,
     "metadata": {},
     "output_type": "execute_result"
    }
   ],
   "source": [
    "data.dtypes"
   ]
  },
  {
   "cell_type": "markdown",
   "metadata": {},
   "source": [
    "First, I find it odd that the school_ncesid is a float but the other ids are objects. I suppose that it is just the way that different organizations identify each project. After reading what each category of data means on the Kaggle website and understanding the category labels, I can start my exploratory analysis. First, how many projects are there? What is the range of dates that the projects are recorded? "
   ]
  },
  {
   "cell_type": "code",
   "execution_count": 203,
   "metadata": {},
   "outputs": [
    {
     "data": {
      "text/plain": [
       "(664098, 35)"
      ]
     },
     "execution_count": 203,
     "metadata": {},
     "output_type": "execute_result"
    }
   ],
   "source": [
    "data.shape"
   ]
  },
  {
   "cell_type": "markdown",
   "metadata": {},
   "source": [
    "Straight away, I see missing values. I want to remove those points so I do not introduce unwanted noise in my analysis. "
   ]
  },
  {
   "cell_type": "code",
   "execution_count": 166,
   "metadata": {},
   "outputs": [
    {
     "data": {
      "text/plain": [
       "(365074, 35)"
      ]
     },
     "execution_count": 166,
     "metadata": {},
     "output_type": "execute_result"
    }
   ],
   "source": [
    "data = data.dropna()\n",
    "data.shape"
   ]
  },
  {
   "cell_type": "markdown",
   "metadata": {},
   "source": [
    "Almost half the entires are dropped. In the future, I will want to take time to investigate whether all rows with a missing value needs to be dropped, since I am losing signal as well when I drop that data. For example, we don't know who fills the data in, so there might be a relationship between the date or location of the project and the amount of data that is filled in for the project. For example, I noticed that the fulfillment cost was not filled during the earlier years, and the numbers of students reached was also zero. "
   ]
  },
  {
   "cell_type": "markdown",
   "metadata": {},
   "source": [
    "Now, since I am interested in the geographical locations of the projects, what states and counties have the greatest number of projects?"
   ]
  },
  {
   "cell_type": "code",
   "execution_count": 204,
   "metadata": {},
   "outputs": [
    {
     "data": {
      "text/plain": [
       "CA    126242\n",
       "NY     73182\n",
       "NC     43478\n",
       "IL     40167\n",
       "TX     39661\n",
       "Name: school_state, dtype: int64"
      ]
     },
     "execution_count": 204,
     "metadata": {},
     "output_type": "execute_result"
    }
   ],
   "source": [
    "data['school_state'].value_counts()[:5]"
   ]
  },
  {
   "cell_type": "code",
   "execution_count": 205,
   "metadata": {},
   "outputs": [
    {
     "data": {
      "text/plain": [
       "Los Angeles             50223\n",
       "Cook                    31458\n",
       "Kings (Brooklyn)        19551\n",
       "Bronx                   18121\n",
       "New York (Manhattan)    13954\n",
       "Name: school_county, dtype: int64"
      ]
     },
     "execution_count": 205,
     "metadata": {},
     "output_type": "execute_result"
    }
   ],
   "source": [
    "data['school_county'].value_counts()[:5]"
   ]
  },
  {
   "cell_type": "markdown",
   "metadata": {},
   "source": [
    "It makes sense that most of the projects are located in large urban areas, such as Chicago, New York and Los Angeles. However, I can't be sure if the program targets city schools or if city schools are just more in need. I see that there are categorical variables that describe the school. What percentage is true for the categories? I consider 'Mr.' as true for teacher_prefix."
   ]
  },
  {
   "cell_type": "code",
   "execution_count": 206,
   "metadata": {},
   "outputs": [
    {
     "name": "stdout",
     "output_type": "stream",
     "text": [
      "school_charter 0.08672966941626085\n",
      "school_magnet 0.09376628148255227\n",
      "school_year_round 0.04973814105749453\n",
      "school_nlns 0.014969176236037452\n",
      "school_kipp 0.006616493348873208\n",
      "school_charter_ready_promise 0.004899879234691266\n",
      "teacher_prefix 0.12794497197702748\n",
      "teacher_teach_for_america 0.0568425142072405\n",
      "teacher_ny_teaching_fellow 0.01722336161229216\n"
     ]
    }
   ],
   "source": [
    "l1 = data.loc[:, 'school_charter':'teacher_ny_teaching_fellow']\n",
    "for col in l1:\n",
    "    if col == 'teacher_prefix':\n",
    "        print(col, data.loc[data[col] == 'Mr.'].shape[0] / data.shape[0]) \n",
    "    else:\n",
    "        print(col, data.loc[data[col] == 't'].shape[0] / data.shape[0])"
   ]
  },
  {
   "cell_type": "markdown",
   "metadata": {},
   "source": [
    "I see that most cases are false for the categories. For example, only eight percent of the project schools are charter schools. Surprisingly, only thirteen percent of the teachers at project schools are men. Next, I want to see which subjects and focus areas come up the most often in the projects. "
   ]
  },
  {
   "cell_type": "code",
   "execution_count": 207,
   "metadata": {},
   "outputs": [
    {
     "name": "stdout",
     "output_type": "stream",
     "text": [
      "primary_focus_subject\n",
      "Literacy                 201378\n",
      "Literature & Writing      82189\n",
      "Mathematics               80929\n",
      "Special Needs             41959\n",
      "Applied Sciences          31615\n",
      "Visual Arts               30738\n",
      "Environmental Science     27178\n",
      "Health & Life Science     24617\n",
      "Music                     20590\n",
      "History & Geography       16861\n",
      "Early Development         14140\n",
      "Other                     13459\n",
      "Social Sciences           10024\n",
      "ESL                        9790\n",
      "Character Education        9571\n",
      "Performing Arts            8565\n",
      "Gym & Fitness              7050\n",
      "Health & Wellness          6713\n",
      "College & Career Prep      6521\n",
      "Foreign Languages          5401\n",
      "Sports                     3557\n",
      "Extracurricular            3094\n",
      "Civics & Government        2440\n",
      "Economics                  1806\n",
      "Community Service          1491\n",
      "Parent Involvement         1258\n",
      "Nutrition                  1125\n",
      "Name: primary_focus_subject, dtype: int64\n",
      "\n",
      "primary_focus_area\n",
      "Literacy & Language    298758\n",
      "Math & Science         164339\n",
      "Music & The Arts        59893\n",
      "Applied Learning        49534\n",
      "Special Needs           41959\n",
      "History & Civics        31131\n",
      "Health & Sports         18445\n",
      "Name: primary_focus_area, dtype: int64\n",
      "\n",
      "secondary_focus_subject\n",
      "Literature & Writing     69603\n",
      "Literacy                 66142\n",
      "Mathematics              55947\n",
      "Special Needs            28577\n",
      "ESL                      24596\n",
      "Early Development        20653\n",
      "Health & Life Science    19129\n",
      "Applied Sciences         18260\n",
      "Environmental Science    17080\n",
      "History & Geography      16578\n",
      "Visual Arts              14488\n",
      "Performing Arts          13842\n",
      "Social Sciences          13178\n",
      "Other                    11816\n",
      "Character Education      11464\n",
      "College & Career Prep    10271\n",
      "Health & Wellness         7616\n",
      "Music                     7177\n",
      "Extracurricular           5607\n",
      "Parent Involvement        4341\n",
      "Civics & Government       4208\n",
      "Gym & Fitness             3768\n",
      "Community Service         3100\n",
      "Sports                    2914\n",
      "Foreign Languages         2184\n",
      "Economics                 2158\n",
      "Nutrition                 1508\n",
      "Name: secondary_focus_subject, dtype: int64\n",
      "\n",
      "secondary_focus_area\n",
      "Literacy & Language    162525\n",
      "Math & Science         110416\n",
      "Applied Learning        67252\n",
      "History & Civics        36122\n",
      "Music & The Arts        35507\n",
      "Special Needs           28577\n",
      "Health & Sports         15806\n",
      "Name: secondary_focus_area, dtype: int64\n",
      "\n",
      "resource_type\n",
      "Supplies      229213\n",
      "Technology    216145\n",
      "Books         142394\n",
      "Other          69791\n",
      "Trips           5499\n",
      "Visitors        1011\n",
      "Name: resource_type, dtype: int64\n",
      "\n",
      "poverty_level\n",
      "highest poverty     383489\n",
      "high poverty        173561\n",
      "moderate poverty     90337\n",
      "low poverty          16711\n",
      "Name: poverty_level, dtype: int64\n",
      "\n",
      "grade_level\n",
      "Grades PreK-2    246118\n",
      "Grades 3-5       204443\n",
      "Grades 6-8       114539\n",
      "Grades 9-12       98989\n",
      "Name: grade_level, dtype: int64\n",
      "\n",
      "fulfillment_labor_materials\n",
      "30.0    241102\n",
      "35.0    221145\n",
      "17.0    102657\n",
      "9.0      64112\n",
      "Name: fulfillment_labor_materials, dtype: int64\n",
      "\n"
     ]
    }
   ],
   "source": [
    "l2 = data.loc[:,'primary_focus_subject': 'fulfillment_labor_materials']\n",
    "for col in l2: \n",
    "    print(col)\n",
    "    print(data[col].value_counts() )\n",
    "    print()"
   ]
  },
  {
   "cell_type": "markdown",
   "metadata": {},
   "source": [
    "I see that literacy is the main focus area for a great amount of the projects. This may be related to that most projects help younger kids, since it is important for younger children to learn to read and write. Lastly, I want to check out the average price of the optional support."
   ]
  },
  {
   "cell_type": "code",
   "execution_count": 171,
   "metadata": {},
   "outputs": [
    {
     "data": {
      "text/plain": [
       "100.0339210680606"
      ]
     },
     "execution_count": 171,
     "metadata": {},
     "output_type": "execute_result"
    }
   ],
   "source": [
    "difference = data['total_price_including_optional_support'] - data['total_price_excluding_optional_support']\n",
    "difference.mean()"
   ]
  },
  {
   "cell_type": "markdown",
   "metadata": {},
   "source": [
    "### A Data Story \n",
    "\n",
    "Something I think that is interesting is the relationship between poverty level and geographic location. Specifically, I want to tell a story based on how the highest level of poverty is most common in certain areas. Then, I want to take a look at Illinois and Cook county to see which zip codes have the highest rate of 'highest poverty' projects."
   ]
  },
  {
   "cell_type": "markdown",
   "metadata": {},
   "source": [
    "People usually tend to believe that school districts with the highest poverty level are urban school districts. Taking a look at our data, we are able to see if it is true of not. "
   ]
  },
  {
   "cell_type": "code",
   "execution_count": 208,
   "metadata": {},
   "outputs": [
    {
     "name": "stdout",
     "output_type": "stream",
     "text": [
      "highest poverty\n",
      "urban       0.721913\n",
      "suburban    0.192854\n",
      "rural       0.085234\n",
      "Name: school_metro, dtype: float64\n",
      "high poverty\n",
      "urban       0.470299\n",
      "suburban    0.308128\n",
      "rural       0.221573\n",
      "Name: school_metro, dtype: float64\n",
      "moderate poverty\n",
      "suburban    0.433711\n",
      "urban       0.348684\n",
      "rural       0.217605\n",
      "Name: school_metro, dtype: float64\n",
      "low poverty\n",
      "suburban    0.512800\n",
      "urban       0.363396\n",
      "rural       0.123805\n",
      "Name: school_metro, dtype: float64\n"
     ]
    }
   ],
   "source": [
    "for i in data['poverty_level'].unique():\n",
    "    print(i)\n",
    "    print(data[data['poverty_level'] == i]['school_metro'].value_counts(normalize=True))"
   ]
  },
  {
   "cell_type": "markdown",
   "metadata": {},
   "source": [
    "In the projects, it seems to be true, since over 70 percent of the highest poverty schools are urban, compared with a 35 percent of low poverty schools that are urban. Let's dive deeper into the highest poverty and urban category. What resource type is given to 'highest poverty' level? "
   ]
  },
  {
   "cell_type": "code",
   "execution_count": 199,
   "metadata": {},
   "outputs": [
    {
     "data": {
      "text/plain": [
       "Supplies      0.342469\n",
       "Technology    0.328004\n",
       "Books         0.214614\n",
       "Other         0.104914\n",
       "Trips         0.008554\n",
       "Name: resource_type, dtype: float64"
      ]
     },
     "execution_count": 199,
     "metadata": {},
     "output_type": "execute_result"
    }
   ],
   "source": [
    "data[data['poverty_level'] == 'highest poverty']['resource_type'].value_counts(normalize=True)[:5]"
   ]
  },
  {
   "cell_type": "markdown",
   "metadata": {},
   "source": [
    "It seems that supplies and technology are the top two resources for highest poverty schools. What about geographical setting?"
   ]
  },
  {
   "cell_type": "code",
   "execution_count": 209,
   "metadata": {},
   "outputs": [
    {
     "data": {
      "text/plain": [
       "CA    0.170954\n",
       "NY    0.156993\n",
       "IL    0.081598\n",
       "TX    0.058015\n",
       "NC    0.053071\n",
       "Name: school_state, dtype: float64"
      ]
     },
     "execution_count": 209,
     "metadata": {},
     "output_type": "execute_result"
    }
   ],
   "source": [
    "data[data['poverty_level'] == 'highest poverty']['school_state'].value_counts(normalize=True)[:5]"
   ]
  },
  {
   "cell_type": "markdown",
   "metadata": {},
   "source": [
    "Compared with the states with the most cases, which came in at CA, NY, TX, IL, and NC in that order, it appears that Illinois and Texas are flipped. As a result, I suspect that a greater number of projects in Illinois is categorized as 'highest poverty' than Texas. As a student at the University of Chicago, I understand that there is great wealth inequality in the city. Let's see if I am correct."
   ]
  },
  {
   "cell_type": "code",
   "execution_count": 180,
   "metadata": {},
   "outputs": [
    {
     "data": {
      "text/plain": [
       "highest poverty     0.783750\n",
       "high poverty        0.112176\n",
       "moderate poverty    0.094351\n",
       "low poverty         0.009723\n",
       "Name: poverty_level, dtype: float64"
      ]
     },
     "execution_count": 180,
     "metadata": {},
     "output_type": "execute_result"
    }
   ],
   "source": [
    "data[data['school_state'] == 'IL']['poverty_level'].value_counts(normalize = True)"
   ]
  },
  {
   "cell_type": "code",
   "execution_count": 181,
   "metadata": {},
   "outputs": [
    {
     "data": {
      "text/plain": [
       "highest poverty     0.555425\n",
       "high poverty        0.312980\n",
       "moderate poverty    0.104691\n",
       "low poverty         0.026904\n",
       "Name: poverty_level, dtype: float64"
      ]
     },
     "execution_count": 181,
     "metadata": {},
     "output_type": "execute_result"
    }
   ],
   "source": [
    "data[data['school_state'] == 'TX']['poverty_level'].value_counts(normalize = True)"
   ]
  },
  {
   "cell_type": "markdown",
   "metadata": {},
   "source": [
    "The difference between Illinois and Texas in the highest poverty level is more than 20 percentage points! Now, let's continue the story by seeing which county in Illinois has the greatest \"highest poverty\" rate. My guess is Cook county."
   ]
  },
  {
   "cell_type": "code",
   "execution_count": 185,
   "metadata": {},
   "outputs": [
    {
     "data": {
      "text/plain": [
       "Cook           0.888404\n",
       "Lake           0.028717\n",
       "Sangamon       0.016197\n",
       "Champaign      0.010511\n",
       "Winnebago      0.010051\n",
       "Kane           0.009247\n",
       "Will           0.008213\n",
       "Peoria         0.005399\n",
       "St Clair       0.004480\n",
       "Macon          0.003848\n",
       "Rock Island    0.003733\n",
       "Vermilion      0.002240\n",
       "Madison        0.002068\n",
       "Du Page        0.001608\n",
       "Mclean         0.001091\n",
       "Hancock        0.000689\n",
       "Kankakee       0.000689\n",
       "Pulaski        0.000574\n",
       "Tazewell       0.000459\n",
       "Boone          0.000459\n",
       "Union          0.000287\n",
       "Fulton         0.000287\n",
       "Massac         0.000172\n",
       "De Kalb        0.000172\n",
       "Henderson      0.000172\n",
       "Morgan         0.000115\n",
       "Kendall        0.000057\n",
       "Pike           0.000057\n",
       "Name: school_county, dtype: float64"
      ]
     },
     "execution_count": 185,
     "metadata": {},
     "output_type": "execute_result"
    }
   ],
   "source": [
    "data[(data['school_state'] == 'IL') & (data['poverty_level'] == 'highest poverty')]['school_county'].value_counts(normalize = True)"
   ]
  },
  {
   "cell_type": "markdown",
   "metadata": {},
   "source": [
    "I was correct. With my previous knowledge that most 'highest poverty' cases are urban, I could have guess that Chicago's county has the highest rate. Now we know that Cook county has the most cases, which zip code is especially burdened?"
   ]
  },
  {
   "cell_type": "code",
   "execution_count": 192,
   "metadata": {},
   "outputs": [
    {
     "data": {
      "text/plain": [
       "60609.0    0.061991\n",
       "60623.0    0.055139\n",
       "60652.0    0.051067\n",
       "60647.0    0.040918\n",
       "60618.0    0.040853\n",
       "60632.0    0.037427\n",
       "60625.0    0.035100\n",
       "60612.0    0.033937\n",
       "60660.0    0.032321\n",
       "60636.0    0.030640\n",
       "60637.0    0.029089\n",
       "60617.0    0.027925\n",
       "60624.0    0.026115\n",
       "60629.0    0.024887\n",
       "60608.0    0.023400\n",
       "60634.0    0.022948\n",
       "60641.0    0.021913\n",
       "60621.0    0.021590\n",
       "60628.0    0.021202\n",
       "60626.0    0.020814\n",
       "60651.0    0.020750\n",
       "60616.0    0.019910\n",
       "60639.0    0.019845\n",
       "60622.0    0.018940\n",
       "60402.0    0.016807\n",
       "60640.0    0.016742\n",
       "60620.0    0.015320\n",
       "60619.0    0.015191\n",
       "60644.0    0.015191\n",
       "60610.0    0.014932\n",
       "             ...   \n",
       "60458.0    0.001616\n",
       "60429.0    0.001616\n",
       "60473.0    0.001228\n",
       "60707.0    0.001164\n",
       "60104.0    0.000970\n",
       "60466.0    0.000970\n",
       "60160.0    0.000711\n",
       "60090.0    0.000582\n",
       "60425.0    0.000517\n",
       "60452.0    0.000517\n",
       "60056.0    0.000452\n",
       "60164.0    0.000388\n",
       "60655.0    0.000388\n",
       "60631.0    0.000323\n",
       "60018.0    0.000323\n",
       "60501.0    0.000323\n",
       "60471.0    0.000259\n",
       "60428.0    0.000194\n",
       "60472.0    0.000194\n",
       "60153.0    0.000194\n",
       "60475.0    0.000194\n",
       "60605.0    0.000194\n",
       "60461.0    0.000129\n",
       "60438.0    0.000129\n",
       "31647.0    0.000129\n",
       "60074.0    0.000129\n",
       "60469.0    0.000065\n",
       "60443.0    0.000065\n",
       "60525.0    0.000065\n",
       "60133.0    0.000065\n",
       "Name: school_zip, Length: 87, dtype: float64"
      ]
     },
     "execution_count": 192,
     "metadata": {},
     "output_type": "execute_result"
    }
   ],
   "source": [
    "data[(data['school_county'] == 'Cook') & ((data['poverty_level'] == 'highest poverty'))]['school_zip'].value_counts(normalize = True)"
   ]
  },
  {
   "cell_type": "markdown",
   "metadata": {},
   "source": [
    "There isn't one specific zip that stands out. However, I would be interested in learning more about the first four zip codes and their demographics. I would also like to learn about those schools."
   ]
  },
  {
   "cell_type": "markdown",
   "metadata": {},
   "source": [
    "### Questions for the Project Partner\n",
    "\n",
    "Now, especially after I looked into my data story, I want to know the social economic status of the inhabitants of the top five zip codes in Cook county where schools are in the 'highest poverty' level. If I have that information, then I am able to find the relationship between poverty level and social economic status of the zip code. This goes along for all schools that are projects in the spreadsheet. While I know that the poverty level is dependent on percentage of students who get reduced lunches, it is also useful to have a concrete number, such as median income earned in the zip area. \n",
    "\n",
    "Another question I have for my project partner is what conditions make a school eligible to become a project? Like I stated earlier, urban schools dominate the projects, but we know that there are rural areas that need help as well. \n",
    "In addition, there is little quantitative data about the projects overall. For example, what was the outcome measure after the project was completed? Did this see an increase in the rate of graduation or college attendance? Since many of the projects took place at primary schools, did the boost for the younger children sustain across the rest of their education?"
   ]
  }
 ],
 "metadata": {
  "kernelspec": {
   "display_name": "Python 3",
   "language": "python",
   "name": "python3"
  },
  "language_info": {
   "codemirror_mode": {
    "name": "ipython",
    "version": 3
   },
   "file_extension": ".py",
   "mimetype": "text/x-python",
   "name": "python",
   "nbconvert_exporter": "python",
   "pygments_lexer": "ipython3",
   "version": "3.6.4"
  }
 },
 "nbformat": 4,
 "nbformat_minor": 2
}
